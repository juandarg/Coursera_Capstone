{
    "nbformat_minor": 1, 
    "cells": [
        {
            "source": "# Clustering and segmentation for neighborhoods in Toronto", 
            "cell_type": "markdown", 
            "metadata": {
                "collapsed": true
            }
        }, 
        {
            "source": "### Needed libraries for the assignment:", 
            "cell_type": "markdown", 
            "metadata": {}
        }, 
        {
            "source": "import requests\nimport pandas as pd\nfrom bs4 import BeautifulSoup", 
            "cell_type": "code", 
            "metadata": {}, 
            "outputs": [], 
            "execution_count": 1
        }, 
        {
            "source": "### Getting the table from the Wiki page:", 
            "cell_type": "markdown", 
            "metadata": {}
        }, 
        {
            "source": "url = 'https://en.wikipedia.org/wiki/List_of_postal_codes_of_Canada:_M'\nwebsite = requests.get(url).text\n\n\nsoup = BeautifulSoup(website,'lxml')\n\n\n# Getting the table\ntablePostalCodes = soup.find('table',{'class':'wikitable sortable'})\n\n# Getting a list with each row of the table\ndetailPostalCodes = tablePostalCodes.find_all('tr')\n\n# Deleting the row with the heading of the table\ndel detailPostalCodes[0]\n\n\n", 
            "cell_type": "code", 
            "metadata": {}, 
            "outputs": [], 
            "execution_count": 2
        }, 
        {
            "source": "### Building a summarized list of lists of Postal codes of Canada", 
            "cell_type": "markdown", 
            "metadata": {}
        }, 
        {
            "source": "#Creating an empty list\nsummarizedCodesCanada = []\n\n#Initializing some temporal variables\ntempPostcode = None\ntempBorough = None\ntempNeighbourhood = None\n\n#Reading each row from detailPostalCodes and building the summarizedCodesCanada list.\nfor postalCode in detailPostalCodes:\n    detailPostalCode = postalCode.find_all('td')\n    postcode = detailPostalCode[0].text\n    borough = detailPostalCode[1].text\n    neighbourhood = detailPostalCode[2].text.rstrip()\n    #Only taking into account the rows with a borough\n    if borough != 'Not assigned':\n        #Assigning the borough to the neighbourhood when there is no neighbourhood.\n        if neighbourhood == 'Not assigned':\n            neighbourhood = borough\n        if tempPostcode != postcode:\n            if tempPostcode is not None:\n                #Appending the summarized row to the summarized list\n                summarizedCodesCanada.append([tempPostcode, tempBorough, tempNeighbourhood])\n            #Temporaly storing the current row \n            tempPostcode = postcode\n            tempBorough = borough\n            tempNeighbourhood = neighbourhood\n        else:\n            #When there are many neigbourhoods for the same postcode, all neigbourhoods are grouped in the same cell \n            tempNeighbourhood = tempNeighbourhood + ', ' + neighbourhood\n        \n#Appending the last summarized row \nsummarizedCodesCanada.append([tempPostcode, tempBorough, tempNeighbourhood])\n", 
            "cell_type": "code", 
            "metadata": {}, 
            "outputs": [], 
            "execution_count": 3
        }, 
        {
            "source": "### Building the dataframe from the list", 
            "cell_type": "markdown", 
            "metadata": {}
        }, 
        {
            "source": "# define the dataframe columns\ncolumn_names = ['PostalCode', 'Borough', 'Neighborhood']\n\n#Creating the dataframe from the list\ndfSummarizedCodesCanada = pd.DataFrame(summarizedCodesCanada, columns = column_names)\n\n# Print first 5 rows\ndfSummarizedCodesCanada.head()", 
            "cell_type": "code", 
            "metadata": {}, 
            "outputs": [
                {
                    "output_type": "execute_result", 
                    "data": {
                        "text/plain": "  PostalCode           Borough                      Neighborhood\n0        M3A        North York                         Parkwoods\n1        M4A        North York                  Victoria Village\n2        M5A  Downtown Toronto         Harbourfront, Regent Park\n3        M6A        North York  Lawrence Heights, Lawrence Manor\n4        M7A      Queen's Park                      Queen's Park", 
                        "text/html": "<div>\n<style scoped>\n    .dataframe tbody tr th:only-of-type {\n        vertical-align: middle;\n    }\n\n    .dataframe tbody tr th {\n        vertical-align: top;\n    }\n\n    .dataframe thead th {\n        text-align: right;\n    }\n</style>\n<table border=\"1\" class=\"dataframe\">\n  <thead>\n    <tr style=\"text-align: right;\">\n      <th></th>\n      <th>PostalCode</th>\n      <th>Borough</th>\n      <th>Neighborhood</th>\n    </tr>\n  </thead>\n  <tbody>\n    <tr>\n      <th>0</th>\n      <td>M3A</td>\n      <td>North York</td>\n      <td>Parkwoods</td>\n    </tr>\n    <tr>\n      <th>1</th>\n      <td>M4A</td>\n      <td>North York</td>\n      <td>Victoria Village</td>\n    </tr>\n    <tr>\n      <th>2</th>\n      <td>M5A</td>\n      <td>Downtown Toronto</td>\n      <td>Harbourfront, Regent Park</td>\n    </tr>\n    <tr>\n      <th>3</th>\n      <td>M6A</td>\n      <td>North York</td>\n      <td>Lawrence Heights, Lawrence Manor</td>\n    </tr>\n    <tr>\n      <th>4</th>\n      <td>M7A</td>\n      <td>Queen's Park</td>\n      <td>Queen's Park</td>\n    </tr>\n  </tbody>\n</table>\n</div>"
                    }, 
                    "execution_count": 4, 
                    "metadata": {}
                }
            ], 
            "execution_count": 4
        }, 
        {
            "source": "# Print the number of rows of the dataframe\nprint(dfSummarizedCodesCanada.shape)\n", 
            "cell_type": "code", 
            "metadata": {}, 
            "outputs": [
                {
                    "output_type": "stream", 
                    "name": "stdout", 
                    "text": "(103, 3)\n"
                }
            ], 
            "execution_count": 5
        }, 
        {
            "source": "### Getting latitud and longitude for each PostalCode", 
            "cell_type": "markdown", 
            "metadata": {}
        }, 
        {
            "source": "# Installing geocoder\n!conda install -c conda-forge geocoder --yes", 
            "cell_type": "code", 
            "metadata": {}, 
            "outputs": [
                {
                    "output_type": "stream", 
                    "name": "stdout", 
                    "text": "Solving environment: done\n\n# All requested packages already installed.\n\n"
                }
            ], 
            "execution_count": 6
        }, 
        {
            "source": "# Importing geocoder\n\nimport geocoder", 
            "cell_type": "code", 
            "metadata": {}, 
            "outputs": [], 
            "execution_count": 7
        }, 
        {
            "source": "#Getting latitude and longitude for each PostalCode\n\n# Creating empty latitude and longitude lists\n\nlatitudeList = []\nlongitudeList = []\n\n# Getting  latitudeList and longitudeList filled with the data from each PostalCode\n\nfor index, postalCode in dfSummarizedCodesCanada.iterrows():\n    # Building the address from the PostalCode and the Borough\n    # address = '{}, {}'.format(postalCode[\"PostalCode\"], postalCode[\"Borough\"])\n    address = postalCode[\"PostalCode\"]\n    g = geocoder.arcgis(address)\n    lat_lng_coords = g.latlng\n    latitude = lat_lng_coords[0]\n    longitude = lat_lng_coords[1]\n    latitudeList.append(latitude)\n    longitudeList.append(longitude)\n\n# Adding Latitude and Longitude columns to the dataframe\ndfSummarizedCodesCanada['Latitude'] = latitudeList\ndfSummarizedCodesCanada['Longitude'] = longitudeList\n\n\n\n", 
            "cell_type": "code", 
            "metadata": {}, 
            "outputs": [], 
            "execution_count": 8
        }, 
        {
            "source": "# Displayng dataframe.\ndfSummarizedCodesCanada", 
            "cell_type": "code", 
            "metadata": {}, 
            "outputs": [
                {
                    "output_type": "execute_result", 
                    "data": {
                        "text/plain": "    PostalCode           Borough  \\\n0          M3A        North York   \n1          M4A        North York   \n2          M5A  Downtown Toronto   \n3          M6A        North York   \n4          M7A      Queen's Park   \n5          M9A         Etobicoke   \n6          M1B       Scarborough   \n7          M3B        North York   \n8          M4B         East York   \n9          M5B  Downtown Toronto   \n10         M6B        North York   \n11         M9B         Etobicoke   \n12         M1C       Scarborough   \n13         M3C        North York   \n14         M4C         East York   \n15         M5C  Downtown Toronto   \n16         M6C              York   \n17         M9C         Etobicoke   \n18         M1E       Scarborough   \n19         M4E      East Toronto   \n20         M5E  Downtown Toronto   \n21         M6E              York   \n22         M1G       Scarborough   \n23         M4G         East York   \n24         M5G  Downtown Toronto   \n25         M6G  Downtown Toronto   \n26         M1H       Scarborough   \n27         M2H        North York   \n28         M3H        North York   \n29         M4H         East York   \n..         ...               ...   \n73         M4R   Central Toronto   \n74         M5R   Central Toronto   \n75         M6R      West Toronto   \n76         M7R       Mississauga   \n77         M9R         Etobicoke   \n78         M1S       Scarborough   \n79         M4S   Central Toronto   \n80         M5S  Downtown Toronto   \n81         M6S      West Toronto   \n82         M1T       Scarborough   \n83         M4T   Central Toronto   \n84         M5T  Downtown Toronto   \n85         M1V       Scarborough   \n86         M4V   Central Toronto   \n87         M5V  Downtown Toronto   \n88         M8V         Etobicoke   \n89         M9V         Etobicoke   \n90         M1W       Scarborough   \n91         M4W  Downtown Toronto   \n92         M5W  Downtown Toronto   \n93         M8W         Etobicoke   \n94         M9W         Etobicoke   \n95         M1X       Scarborough   \n96         M4X  Downtown Toronto   \n97         M5X  Downtown Toronto   \n98         M8X         Etobicoke   \n99         M4Y  Downtown Toronto   \n100        M7Y      East Toronto   \n101        M8Y         Etobicoke   \n102        M8Z         Etobicoke   \n\n                                          Neighborhood   Latitude  Longitude  \n0                                            Parkwoods  43.752440 -79.329271  \n1                                     Victoria Village  43.730421 -79.313320  \n2                            Harbourfront, Regent Park  43.655120 -79.362640  \n3                     Lawrence Heights, Lawrence Manor  43.723125 -79.451589  \n4                                         Queen's Park  43.661102 -79.391035  \n5                                     Islington Avenue  43.662242 -79.528379  \n6                                       Rouge, Malvern  43.811525 -79.195517  \n7                                      Don Mills North  43.749195 -79.361905  \n8                      Woodbine Gardens, Parkview Hill  43.707535 -79.311773  \n9                             Ryerson, Garden District  43.657363 -79.378180  \n10                                           Glencairn  43.707990 -79.448367  \n11   Cloverdale, Islington, Martin Grove, Princess ...  43.649692 -79.553945  \n12              Highland Creek, Rouge Hill, Port Union  43.785730 -79.158750  \n13                    Flemingdon Park, Don Mills South  43.721425 -79.343453  \n14                                    Woodbine Heights  43.689665 -79.307169  \n15                                      St. James Town  43.651210 -79.375481  \n16                                  Humewood-Cedarvale  43.692105 -79.430355  \n17   Bloordale Gardens, Eringate, Markland Wood, Ol...  43.648573 -79.578250  \n18                   Guildwood, Morningside, West Hill  43.765690 -79.175256  \n19                                         The Beaches  43.676845 -79.295225  \n20                                         Berczy Park  43.645160 -79.373675  \n21                                 Caledonia-Fairbanks  43.688640 -79.451015  \n22                                              Woburn  43.768359 -79.217590  \n23                                             Leaside  43.709765 -79.363901  \n24                                  Central Bay Street  43.656091 -79.384930  \n25                                            Christie  43.668781 -79.420710  \n26                                           Cedarbrae  43.769688 -79.239440  \n27                                   Hillcrest Village  43.802845 -79.356236  \n28     Bathurst Manor, Downsview North, Wilson Heights  43.757565 -79.448191  \n29                                    Thorncliffe Park  43.701270 -79.349844  \n..                                                 ...        ...        ...  \n73                                  North Toronto West  43.714523 -79.406960  \n74                 The Annex, North Midtown, Yorkville  43.674840 -79.403698  \n75                              Parkdale, Roncesvalles  43.647870 -79.449762  \n76               Canada Post Gateway Processing Centre  43.645406 -79.617668  \n77   Kingsview Village, Martin Grove Gardens, Richv...  43.686915 -79.557276  \n78                                           Agincourt  43.793940 -79.267983  \n79                                          Davisville  43.703395 -79.385964  \n80                      Harbord, University of Toronto  43.663110 -79.401801  \n81                                  Runnymede, Swansea  43.649885 -79.474929  \n82             Clarks Corners, Sullivan, Tam O'Shanter  43.784725 -79.299047  \n83                         Moore Park, Summerhill East  43.690655 -79.383561  \n84           Chinatown, Grange Park, Kensington Market  43.653570 -79.397249  \n85   Agincourt North, L'Amoreaux East, Milliken, St...  43.817810 -79.280244  \n86   Deer Park, Forest Hill SE, Rathnelly, South Hi...  43.686083 -79.402335  \n87   CN Tower, Bathurst Quay, Island airport, Harbo...  43.640815 -79.399538  \n88        Humber Bay Shores, Mimico South, New Toronto  43.609870 -79.498178  \n89   Albion Gardens, Beaumond Heights, Humbergate, ...  43.743205 -79.584701  \n90                                     L'Amoreaux West  43.800881 -79.320740  \n91                                            Rosedale  43.681940 -79.378474  \n92                     Stn A PO Boxes 25 The Esplanade  43.648690 -79.385440  \n93                              Alderwood, Long Branch  43.601131 -79.538785  \n94                                           Northwest  43.711740 -79.579181  \n95                                         Upper Rouge  43.834215 -79.216701  \n96                         Cabbagetown, St. James Town  43.668160 -79.366602  \n97              First Canadian Place, Underground city  43.648280 -79.381461  \n98       The Kingsway, Montgomery Road, Old Mill North  43.653690 -79.511117  \n99                                Church and Wellesley  43.666585 -79.381302  \n100  Business Reply Mail Processing Centre 969 Eastern  43.648690 -79.385440  \n101  Humber Bay, King's Mill Park, Kingsway Park So...  43.632765 -79.489601  \n102  Kingsway Park South West, Mimico NW, The Queen...  43.624630 -79.526950  \n\n[103 rows x 5 columns]", 
                        "text/html": "<div>\n<style scoped>\n    .dataframe tbody tr th:only-of-type {\n        vertical-align: middle;\n    }\n\n    .dataframe tbody tr th {\n        vertical-align: top;\n    }\n\n    .dataframe thead th {\n        text-align: right;\n    }\n</style>\n<table border=\"1\" class=\"dataframe\">\n  <thead>\n    <tr style=\"text-align: right;\">\n      <th></th>\n      <th>PostalCode</th>\n      <th>Borough</th>\n      <th>Neighborhood</th>\n      <th>Latitude</th>\n      <th>Longitude</th>\n    </tr>\n  </thead>\n  <tbody>\n    <tr>\n      <th>0</th>\n      <td>M3A</td>\n      <td>North York</td>\n      <td>Parkwoods</td>\n      <td>43.752440</td>\n      <td>-79.329271</td>\n    </tr>\n    <tr>\n      <th>1</th>\n      <td>M4A</td>\n      <td>North York</td>\n      <td>Victoria Village</td>\n      <td>43.730421</td>\n      <td>-79.313320</td>\n    </tr>\n    <tr>\n      <th>2</th>\n      <td>M5A</td>\n      <td>Downtown Toronto</td>\n      <td>Harbourfront, Regent Park</td>\n      <td>43.655120</td>\n      <td>-79.362640</td>\n    </tr>\n    <tr>\n      <th>3</th>\n      <td>M6A</td>\n      <td>North York</td>\n      <td>Lawrence Heights, Lawrence Manor</td>\n      <td>43.723125</td>\n      <td>-79.451589</td>\n    </tr>\n    <tr>\n      <th>4</th>\n      <td>M7A</td>\n      <td>Queen's Park</td>\n      <td>Queen's Park</td>\n      <td>43.661102</td>\n      <td>-79.391035</td>\n    </tr>\n    <tr>\n      <th>5</th>\n      <td>M9A</td>\n      <td>Etobicoke</td>\n      <td>Islington Avenue</td>\n      <td>43.662242</td>\n      <td>-79.528379</td>\n    </tr>\n    <tr>\n      <th>6</th>\n      <td>M1B</td>\n      <td>Scarborough</td>\n      <td>Rouge, Malvern</td>\n      <td>43.811525</td>\n      <td>-79.195517</td>\n    </tr>\n    <tr>\n      <th>7</th>\n      <td>M3B</td>\n      <td>North York</td>\n      <td>Don Mills North</td>\n      <td>43.749195</td>\n      <td>-79.361905</td>\n    </tr>\n    <tr>\n      <th>8</th>\n      <td>M4B</td>\n      <td>East York</td>\n      <td>Woodbine Gardens, Parkview Hill</td>\n      <td>43.707535</td>\n      <td>-79.311773</td>\n    </tr>\n    <tr>\n      <th>9</th>\n      <td>M5B</td>\n      <td>Downtown Toronto</td>\n      <td>Ryerson, Garden District</td>\n      <td>43.657363</td>\n      <td>-79.378180</td>\n    </tr>\n    <tr>\n      <th>10</th>\n      <td>M6B</td>\n      <td>North York</td>\n      <td>Glencairn</td>\n      <td>43.707990</td>\n      <td>-79.448367</td>\n    </tr>\n    <tr>\n      <th>11</th>\n      <td>M9B</td>\n      <td>Etobicoke</td>\n      <td>Cloverdale, Islington, Martin Grove, Princess ...</td>\n      <td>43.649692</td>\n      <td>-79.553945</td>\n    </tr>\n    <tr>\n      <th>12</th>\n      <td>M1C</td>\n      <td>Scarborough</td>\n      <td>Highland Creek, Rouge Hill, Port Union</td>\n      <td>43.785730</td>\n      <td>-79.158750</td>\n    </tr>\n    <tr>\n      <th>13</th>\n      <td>M3C</td>\n      <td>North York</td>\n      <td>Flemingdon Park, Don Mills South</td>\n      <td>43.721425</td>\n      <td>-79.343453</td>\n    </tr>\n    <tr>\n      <th>14</th>\n      <td>M4C</td>\n      <td>East York</td>\n      <td>Woodbine Heights</td>\n      <td>43.689665</td>\n      <td>-79.307169</td>\n    </tr>\n    <tr>\n      <th>15</th>\n      <td>M5C</td>\n      <td>Downtown Toronto</td>\n      <td>St. James Town</td>\n      <td>43.651210</td>\n      <td>-79.375481</td>\n    </tr>\n    <tr>\n      <th>16</th>\n      <td>M6C</td>\n      <td>York</td>\n      <td>Humewood-Cedarvale</td>\n      <td>43.692105</td>\n      <td>-79.430355</td>\n    </tr>\n    <tr>\n      <th>17</th>\n      <td>M9C</td>\n      <td>Etobicoke</td>\n      <td>Bloordale Gardens, Eringate, Markland Wood, Ol...</td>\n      <td>43.648573</td>\n      <td>-79.578250</td>\n    </tr>\n    <tr>\n      <th>18</th>\n      <td>M1E</td>\n      <td>Scarborough</td>\n      <td>Guildwood, Morningside, West Hill</td>\n      <td>43.765690</td>\n      <td>-79.175256</td>\n    </tr>\n    <tr>\n      <th>19</th>\n      <td>M4E</td>\n      <td>East Toronto</td>\n      <td>The Beaches</td>\n      <td>43.676845</td>\n      <td>-79.295225</td>\n    </tr>\n    <tr>\n      <th>20</th>\n      <td>M5E</td>\n      <td>Downtown Toronto</td>\n      <td>Berczy Park</td>\n      <td>43.645160</td>\n      <td>-79.373675</td>\n    </tr>\n    <tr>\n      <th>21</th>\n      <td>M6E</td>\n      <td>York</td>\n      <td>Caledonia-Fairbanks</td>\n      <td>43.688640</td>\n      <td>-79.451015</td>\n    </tr>\n    <tr>\n      <th>22</th>\n      <td>M1G</td>\n      <td>Scarborough</td>\n      <td>Woburn</td>\n      <td>43.768359</td>\n      <td>-79.217590</td>\n    </tr>\n    <tr>\n      <th>23</th>\n      <td>M4G</td>\n      <td>East York</td>\n      <td>Leaside</td>\n      <td>43.709765</td>\n      <td>-79.363901</td>\n    </tr>\n    <tr>\n      <th>24</th>\n      <td>M5G</td>\n      <td>Downtown Toronto</td>\n      <td>Central Bay Street</td>\n      <td>43.656091</td>\n      <td>-79.384930</td>\n    </tr>\n    <tr>\n      <th>25</th>\n      <td>M6G</td>\n      <td>Downtown Toronto</td>\n      <td>Christie</td>\n      <td>43.668781</td>\n      <td>-79.420710</td>\n    </tr>\n    <tr>\n      <th>26</th>\n      <td>M1H</td>\n      <td>Scarborough</td>\n      <td>Cedarbrae</td>\n      <td>43.769688</td>\n      <td>-79.239440</td>\n    </tr>\n    <tr>\n      <th>27</th>\n      <td>M2H</td>\n      <td>North York</td>\n      <td>Hillcrest Village</td>\n      <td>43.802845</td>\n      <td>-79.356236</td>\n    </tr>\n    <tr>\n      <th>28</th>\n      <td>M3H</td>\n      <td>North York</td>\n      <td>Bathurst Manor, Downsview North, Wilson Heights</td>\n      <td>43.757565</td>\n      <td>-79.448191</td>\n    </tr>\n    <tr>\n      <th>29</th>\n      <td>M4H</td>\n      <td>East York</td>\n      <td>Thorncliffe Park</td>\n      <td>43.701270</td>\n      <td>-79.349844</td>\n    </tr>\n    <tr>\n      <th>...</th>\n      <td>...</td>\n      <td>...</td>\n      <td>...</td>\n      <td>...</td>\n      <td>...</td>\n    </tr>\n    <tr>\n      <th>73</th>\n      <td>M4R</td>\n      <td>Central Toronto</td>\n      <td>North Toronto West</td>\n      <td>43.714523</td>\n      <td>-79.406960</td>\n    </tr>\n    <tr>\n      <th>74</th>\n      <td>M5R</td>\n      <td>Central Toronto</td>\n      <td>The Annex, North Midtown, Yorkville</td>\n      <td>43.674840</td>\n      <td>-79.403698</td>\n    </tr>\n    <tr>\n      <th>75</th>\n      <td>M6R</td>\n      <td>West Toronto</td>\n      <td>Parkdale, Roncesvalles</td>\n      <td>43.647870</td>\n      <td>-79.449762</td>\n    </tr>\n    <tr>\n      <th>76</th>\n      <td>M7R</td>\n      <td>Mississauga</td>\n      <td>Canada Post Gateway Processing Centre</td>\n      <td>43.645406</td>\n      <td>-79.617668</td>\n    </tr>\n    <tr>\n      <th>77</th>\n      <td>M9R</td>\n      <td>Etobicoke</td>\n      <td>Kingsview Village, Martin Grove Gardens, Richv...</td>\n      <td>43.686915</td>\n      <td>-79.557276</td>\n    </tr>\n    <tr>\n      <th>78</th>\n      <td>M1S</td>\n      <td>Scarborough</td>\n      <td>Agincourt</td>\n      <td>43.793940</td>\n      <td>-79.267983</td>\n    </tr>\n    <tr>\n      <th>79</th>\n      <td>M4S</td>\n      <td>Central Toronto</td>\n      <td>Davisville</td>\n      <td>43.703395</td>\n      <td>-79.385964</td>\n    </tr>\n    <tr>\n      <th>80</th>\n      <td>M5S</td>\n      <td>Downtown Toronto</td>\n      <td>Harbord, University of Toronto</td>\n      <td>43.663110</td>\n      <td>-79.401801</td>\n    </tr>\n    <tr>\n      <th>81</th>\n      <td>M6S</td>\n      <td>West Toronto</td>\n      <td>Runnymede, Swansea</td>\n      <td>43.649885</td>\n      <td>-79.474929</td>\n    </tr>\n    <tr>\n      <th>82</th>\n      <td>M1T</td>\n      <td>Scarborough</td>\n      <td>Clarks Corners, Sullivan, Tam O'Shanter</td>\n      <td>43.784725</td>\n      <td>-79.299047</td>\n    </tr>\n    <tr>\n      <th>83</th>\n      <td>M4T</td>\n      <td>Central Toronto</td>\n      <td>Moore Park, Summerhill East</td>\n      <td>43.690655</td>\n      <td>-79.383561</td>\n    </tr>\n    <tr>\n      <th>84</th>\n      <td>M5T</td>\n      <td>Downtown Toronto</td>\n      <td>Chinatown, Grange Park, Kensington Market</td>\n      <td>43.653570</td>\n      <td>-79.397249</td>\n    </tr>\n    <tr>\n      <th>85</th>\n      <td>M1V</td>\n      <td>Scarborough</td>\n      <td>Agincourt North, L'Amoreaux East, Milliken, St...</td>\n      <td>43.817810</td>\n      <td>-79.280244</td>\n    </tr>\n    <tr>\n      <th>86</th>\n      <td>M4V</td>\n      <td>Central Toronto</td>\n      <td>Deer Park, Forest Hill SE, Rathnelly, South Hi...</td>\n      <td>43.686083</td>\n      <td>-79.402335</td>\n    </tr>\n    <tr>\n      <th>87</th>\n      <td>M5V</td>\n      <td>Downtown Toronto</td>\n      <td>CN Tower, Bathurst Quay, Island airport, Harbo...</td>\n      <td>43.640815</td>\n      <td>-79.399538</td>\n    </tr>\n    <tr>\n      <th>88</th>\n      <td>M8V</td>\n      <td>Etobicoke</td>\n      <td>Humber Bay Shores, Mimico South, New Toronto</td>\n      <td>43.609870</td>\n      <td>-79.498178</td>\n    </tr>\n    <tr>\n      <th>89</th>\n      <td>M9V</td>\n      <td>Etobicoke</td>\n      <td>Albion Gardens, Beaumond Heights, Humbergate, ...</td>\n      <td>43.743205</td>\n      <td>-79.584701</td>\n    </tr>\n    <tr>\n      <th>90</th>\n      <td>M1W</td>\n      <td>Scarborough</td>\n      <td>L'Amoreaux West</td>\n      <td>43.800881</td>\n      <td>-79.320740</td>\n    </tr>\n    <tr>\n      <th>91</th>\n      <td>M4W</td>\n      <td>Downtown Toronto</td>\n      <td>Rosedale</td>\n      <td>43.681940</td>\n      <td>-79.378474</td>\n    </tr>\n    <tr>\n      <th>92</th>\n      <td>M5W</td>\n      <td>Downtown Toronto</td>\n      <td>Stn A PO Boxes 25 The Esplanade</td>\n      <td>43.648690</td>\n      <td>-79.385440</td>\n    </tr>\n    <tr>\n      <th>93</th>\n      <td>M8W</td>\n      <td>Etobicoke</td>\n      <td>Alderwood, Long Branch</td>\n      <td>43.601131</td>\n      <td>-79.538785</td>\n    </tr>\n    <tr>\n      <th>94</th>\n      <td>M9W</td>\n      <td>Etobicoke</td>\n      <td>Northwest</td>\n      <td>43.711740</td>\n      <td>-79.579181</td>\n    </tr>\n    <tr>\n      <th>95</th>\n      <td>M1X</td>\n      <td>Scarborough</td>\n      <td>Upper Rouge</td>\n      <td>43.834215</td>\n      <td>-79.216701</td>\n    </tr>\n    <tr>\n      <th>96</th>\n      <td>M4X</td>\n      <td>Downtown Toronto</td>\n      <td>Cabbagetown, St. James Town</td>\n      <td>43.668160</td>\n      <td>-79.366602</td>\n    </tr>\n    <tr>\n      <th>97</th>\n      <td>M5X</td>\n      <td>Downtown Toronto</td>\n      <td>First Canadian Place, Underground city</td>\n      <td>43.648280</td>\n      <td>-79.381461</td>\n    </tr>\n    <tr>\n      <th>98</th>\n      <td>M8X</td>\n      <td>Etobicoke</td>\n      <td>The Kingsway, Montgomery Road, Old Mill North</td>\n      <td>43.653690</td>\n      <td>-79.511117</td>\n    </tr>\n    <tr>\n      <th>99</th>\n      <td>M4Y</td>\n      <td>Downtown Toronto</td>\n      <td>Church and Wellesley</td>\n      <td>43.666585</td>\n      <td>-79.381302</td>\n    </tr>\n    <tr>\n      <th>100</th>\n      <td>M7Y</td>\n      <td>East Toronto</td>\n      <td>Business Reply Mail Processing Centre 969 Eastern</td>\n      <td>43.648690</td>\n      <td>-79.385440</td>\n    </tr>\n    <tr>\n      <th>101</th>\n      <td>M8Y</td>\n      <td>Etobicoke</td>\n      <td>Humber Bay, King's Mill Park, Kingsway Park So...</td>\n      <td>43.632765</td>\n      <td>-79.489601</td>\n    </tr>\n    <tr>\n      <th>102</th>\n      <td>M8Z</td>\n      <td>Etobicoke</td>\n      <td>Kingsway Park South West, Mimico NW, The Queen...</td>\n      <td>43.624630</td>\n      <td>-79.526950</td>\n    </tr>\n  </tbody>\n</table>\n<p>103 rows \u00d7 5 columns</p>\n</div>"
                    }, 
                    "execution_count": 15, 
                    "metadata": {}
                }
            ], 
            "execution_count": 15
        }, 
        {
            "source": "", 
            "cell_type": "code", 
            "metadata": {}, 
            "outputs": [], 
            "execution_count": null
        }
    ], 
    "metadata": {
        "kernelspec": {
            "display_name": "Python 3.5", 
            "name": "python3", 
            "language": "python"
        }, 
        "language_info": {
            "mimetype": "text/x-python", 
            "nbconvert_exporter": "python", 
            "version": "3.5.5", 
            "name": "python", 
            "pygments_lexer": "ipython3", 
            "file_extension": ".py", 
            "codemirror_mode": {
                "version": 3, 
                "name": "ipython"
            }
        }
    }, 
    "nbformat": 4
}