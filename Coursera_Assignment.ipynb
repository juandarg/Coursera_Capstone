{
    "nbformat_minor": 1, 
    "cells": [
        {
            "source": "# Clustering and segmentation for neighborhoods in Toronto", 
            "cell_type": "markdown", 
            "metadata": {
                "collapsed": true
            }
        }, 
        {
            "source": "### Needed libraries for the assignment:", 
            "cell_type": "markdown", 
            "metadata": {}
        }, 
        {
            "source": "import requests\nimport pandas as pd\nfrom bs4 import BeautifulSoup", 
            "cell_type": "code", 
            "metadata": {}, 
            "outputs": [], 
            "execution_count": 1
        }, 
        {
            "source": "### Getting the table from the Wiki page:", 
            "cell_type": "markdown", 
            "metadata": {}
        }, 
        {
            "source": "url = 'https://en.wikipedia.org/wiki/List_of_postal_codes_of_Canada:_M'\nwebsite = requests.get(url).text\n\n\nsoup = BeautifulSoup(website,'lxml')\n\n\n# Getting the table\ntablePostalCodes = soup.find('table',{'class':'wikitable sortable'})\n\n# Getting a list with each row of the table\ndetailPostalCodes = tablePostalCodes.find_all('tr')\n\n# Deleting the row with the heading of the table\ndel detailPostalCodes[0]\n\n\n", 
            "cell_type": "code", 
            "metadata": {}, 
            "outputs": [], 
            "execution_count": 2
        }, 
        {
            "source": "### Building a summarized list of lists of Postal codes of Canada", 
            "cell_type": "markdown", 
            "metadata": {}
        }, 
        {
            "source": "#Creating an empty list\nsummarizedCodesCanada = []\n\n#Initializing some temporal variables\ntempPostcode = None\ntempBorough = None\ntempNeighbourhood = None\n\n#Reading each row from detailPostalCodes and building the summarizedCodesCanada list.\nfor postalCode in detailPostalCodes:\n    detailPostalCode = postalCode.find_all('td')\n    postcode = detailPostalCode[0].text\n    borough = detailPostalCode[1].text\n    neighbourhood = detailPostalCode[2].text.rstrip()\n    #Only taking into account the rows with a borough\n    if borough != 'Not assigned':\n        #Assigning the borough to the neighbourhood when there is no neighbourhood.\n        if neighbourhood == 'Not assigned':\n            neighbourhood = borough\n        if tempPostcode != postcode:\n            if tempPostcode is not None:\n                #Appending the summarized row to the summarized list\n                summarizedCodesCanada.append([tempPostcode, tempBorough, tempNeighbourhood])\n            #Temporaly storing the current row \n            tempPostcode = postcode\n            tempBorough = borough\n            tempNeighbourhood = neighbourhood\n        else:\n            #When there are many neigbourhoods for the same postcode, all neigbourhoods are grouped in the same cell \n            tempNeighbourhood = tempNeighbourhood + ', ' + neighbourhood\n        \n#Appending the last summarized row \nsummarizedCodesCanada.append([tempPostcode, tempBorough, tempNeighbourhood])\n", 
            "cell_type": "code", 
            "metadata": {}, 
            "outputs": [], 
            "execution_count": 3
        }, 
        {
            "source": "### Building the dataframe from the list", 
            "cell_type": "markdown", 
            "metadata": {}
        }, 
        {
            "source": "# define the dataframe columns\ncolumn_names = ['PostalCode', 'Borough', 'Neighborhood']\n\n#Creating the dataframe from the list\ndfSummarizedCodesCanada = pd.DataFrame(summarizedCodesCanada, columns = column_names)\n\n# Print first 5 rows\ndfSummarizedCodesCanada.head()", 
            "cell_type": "code", 
            "metadata": {}, 
            "outputs": [
                {
                    "output_type": "execute_result", 
                    "data": {
                        "text/plain": "  PostalCode           Borough                      Neighborhood\n0        M3A        North York                         Parkwoods\n1        M4A        North York                  Victoria Village\n2        M5A  Downtown Toronto         Harbourfront, Regent Park\n3        M6A        North York  Lawrence Heights, Lawrence Manor\n4        M7A      Queen's Park                      Queen's Park", 
                        "text/html": "<div>\n<style scoped>\n    .dataframe tbody tr th:only-of-type {\n        vertical-align: middle;\n    }\n\n    .dataframe tbody tr th {\n        vertical-align: top;\n    }\n\n    .dataframe thead th {\n        text-align: right;\n    }\n</style>\n<table border=\"1\" class=\"dataframe\">\n  <thead>\n    <tr style=\"text-align: right;\">\n      <th></th>\n      <th>PostalCode</th>\n      <th>Borough</th>\n      <th>Neighborhood</th>\n    </tr>\n  </thead>\n  <tbody>\n    <tr>\n      <th>0</th>\n      <td>M3A</td>\n      <td>North York</td>\n      <td>Parkwoods</td>\n    </tr>\n    <tr>\n      <th>1</th>\n      <td>M4A</td>\n      <td>North York</td>\n      <td>Victoria Village</td>\n    </tr>\n    <tr>\n      <th>2</th>\n      <td>M5A</td>\n      <td>Downtown Toronto</td>\n      <td>Harbourfront, Regent Park</td>\n    </tr>\n    <tr>\n      <th>3</th>\n      <td>M6A</td>\n      <td>North York</td>\n      <td>Lawrence Heights, Lawrence Manor</td>\n    </tr>\n    <tr>\n      <th>4</th>\n      <td>M7A</td>\n      <td>Queen's Park</td>\n      <td>Queen's Park</td>\n    </tr>\n  </tbody>\n</table>\n</div>"
                    }, 
                    "execution_count": 12, 
                    "metadata": {}
                }
            ], 
            "execution_count": 12
        }, 
        {
            "source": "# Print the number of rows of the dataframe\nprint(dfSummarizedCodesCanada.shape)\n", 
            "cell_type": "code", 
            "metadata": {}, 
            "outputs": [
                {
                    "output_type": "stream", 
                    "name": "stdout", 
                    "text": "(103, 3)\n"
                }
            ], 
            "execution_count": 13
        }, 
        {
            "source": "", 
            "cell_type": "code", 
            "metadata": {}, 
            "outputs": [], 
            "execution_count": null
        }
    ], 
    "metadata": {
        "kernelspec": {
            "display_name": "Python 3.5", 
            "name": "python3", 
            "language": "python"
        }, 
        "language_info": {
            "mimetype": "text/x-python", 
            "nbconvert_exporter": "python", 
            "version": "3.5.5", 
            "name": "python", 
            "file_extension": ".py", 
            "pygments_lexer": "ipython3", 
            "codemirror_mode": {
                "version": 3, 
                "name": "ipython"
            }
        }
    }, 
    "nbformat": 4
}